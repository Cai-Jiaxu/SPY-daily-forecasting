{
 "cells": [
  {
   "cell_type": "code",
   "execution_count": 1,
   "metadata": {},
   "outputs": [],
   "source": [
    "import pandas as pd\n",
    "import numpy as np\n",
    "from sklearn.feature_selection import SelectKBest, mutual_info_regression\n",
    "from sklearn.model_selection import train_test_split\n",
    "from sklearn.ensemble import RandomForestRegressor\n",
    "from sklearn.metrics import mean_squared_error"
   ]
  },
  {
   "cell_type": "code",
   "execution_count": 2,
   "metadata": {},
   "outputs": [],
   "source": [
    "# open file\n",
    "combined_data_file_path = 'C:\\\\Users\\\\feget\\\\SPY-daily-forecasting\\\\data\\\\combined_data.csv'\n",
    "combined_data_df = pd.read_csv(combined_data_file_path)\n",
    "combined_data_df = combined_data_df.drop(columns=[combined_data_df.columns[0], combined_data_df.columns[1]])\n"
   ]
  },
  {
   "cell_type": "code",
   "execution_count": 3,
   "metadata": {},
   "outputs": [],
   "source": [
    "combined_data_df = combined_data_df.replace([np.inf, -np.inf], np.nan)\n",
    "combined_data_df = combined_data_df.astype(np.float64)\n",
    "combined_data_df = combined_data_df.dropna()\n",
    "\n",
    "X = combined_data_df.drop(columns='SPY')\n",
    "y = combined_data_df['SPY']\n",
    "\n",
    "X_train, X_test, y_train, y_test = train_test_split(X, y, test_size=0.2, random_state=42)\n",
    "\n",
    "\n",
    "mutual_info = mutual_info_regression(X_train, y_train)\n",
    "\n",
    "\n",
    "mi_df = pd.DataFrame({'Feature': X_train.columns, 'Mutual_Information': mutual_info})\n",
    "mi_df = mi_df.sort_values(by='Mutual_Information', ascending=False)\n",
    "mi_df.to_csv('mutual_information_features.csv')"
   ]
  }
 ],
 "metadata": {
  "kernelspec": {
   "display_name": "Python 3",
   "language": "python",
   "name": "python3"
  },
  "language_info": {
   "codemirror_mode": {
    "name": "ipython",
    "version": 3
   },
   "file_extension": ".py",
   "mimetype": "text/x-python",
   "name": "python",
   "nbconvert_exporter": "python",
   "pygments_lexer": "ipython3",
   "version": "3.11.8"
  }
 },
 "nbformat": 4,
 "nbformat_minor": 2
}
